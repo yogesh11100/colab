{
  "nbformat": 4,
  "nbformat_minor": 0,
  "metadata": {
    "colab": {
      "name": "weather_fetcher.ipynb",
      "provenance": [],
      "collapsed_sections": [],
      "authorship_tag": "ABX9TyNcBav0Pzez6lycSFdm5XtH",
      "include_colab_link": true
    },
    "kernelspec": {
      "name": "python3",
      "display_name": "Python 3"
    },
    "language_info": {
      "name": "python"
    }
  },
  "cells": [
    {
      "cell_type": "markdown",
      "metadata": {
        "id": "view-in-github",
        "colab_type": "text"
      },
      "source": [
        "<a href=\"https://colab.research.google.com/github/yogesh11100/colab/blob/main/weather_fetcher.ipynb\" target=\"_parent\"><img src=\"https://colab.research.google.com/assets/colab-badge.svg\" alt=\"Open In Colab\"/></a>"
      ]
    },
    {
      "cell_type": "code",
      "execution_count": 1,
      "metadata": {
        "id": "1xH1nyhHgibB"
      },
      "outputs": [],
      "source": [
        "import requests"
      ]
    },
    {
      "cell_type": "code",
      "source": [
        "API_KEY = \"182824e0dcd3ceb7a599a49350a0c928\"\n",
        "BASE_URL = \"http://api.openweathermap.org/data/2.5/weather\"\n",
        "\n",
        "city = input(\"Enter a city: \")\n",
        "request_url = f\"{BASE_URL}?appid={API_KEY}&q={city}\"\n",
        "response = requests.get(request_url)\n",
        "\n",
        "if response.status_code == 200:\n",
        "  data = response.json()\n",
        "  # print(data)\n",
        "  weather = data['weather']\n",
        "  temp = data['main']\n",
        "\n",
        "  print(\"Weather: \",weather)\n",
        "  print(\"Temp: \",temp)\n",
        "else:\n",
        "  print(\"An error occured\")"
      ],
      "metadata": {
        "colab": {
          "base_uri": "https://localhost:8080/"
        },
        "id": "kv8rzr_JgnVo",
        "outputId": "a23850be-b01f-4b40-b237-f85bc06de03a"
      },
      "execution_count": 12,
      "outputs": [
        {
          "output_type": "stream",
          "name": "stdout",
          "text": [
            "Enter a city: new york\n",
            "Weather:  [{'id': 800, 'main': 'Clear', 'description': 'clear sky', 'icon': '01d'}]\n",
            "Temp:  {'temp': 269.74, 'feels_like': 264.22, 'temp_min': 268.23, 'temp_max': 271.4, 'pressure': 1033, 'humidity': 45}\n"
          ]
        }
      ]
    },
    {
      "cell_type": "code",
      "source": [
        ""
      ],
      "metadata": {
        "id": "iASvXwSUkuFG"
      },
      "execution_count": 6,
      "outputs": []
    }
  ]
}