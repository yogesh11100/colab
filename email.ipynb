{
  "nbformat": 4,
  "nbformat_minor": 0,
  "metadata": {
    "colab": {
      "name": "email.ipynb",
      "provenance": [],
      "authorship_tag": "ABX9TyNj11o2itXVTZUYfCp7zy6u",
      "include_colab_link": true
    },
    "kernelspec": {
      "name": "python3",
      "display_name": "Python 3"
    },
    "language_info": {
      "name": "python"
    }
  },
  "cells": [
    {
      "cell_type": "markdown",
      "metadata": {
        "id": "view-in-github",
        "colab_type": "text"
      },
      "source": [
        "<a href=\"https://colab.research.google.com/github/yogesh11100/colab/blob/main/email.ipynb\" target=\"_parent\"><img src=\"https://colab.research.google.com/assets/colab-badge.svg\" alt=\"Open In Colab\"/></a>"
      ]
    },
    {
      "cell_type": "code",
      "execution_count": 2,
      "metadata": {
        "id": "pQsTban26V2r"
      },
      "outputs": [],
      "source": [
        "import smtplib\n",
        "import ssl\n",
        "from email.message import EmailMessage"
      ]
    },
    {
      "cell_type": "code",
      "source": [
        "subject = \"Testing mail from python\"\n",
        "sender_email = \"coder@gmail.com\"\n",
        "receiver_email = \"coder@gmail.com\"\n",
        "body = \"This is a test mail from python\"\n",
        "password = input(\"Enter a password: \")\n",
        " \n",
        "msg = EmailMessage()\n",
        "msg[\"from\"] = sender_email\n",
        "msg[\"to\"] = receiver_email\n",
        "msg[\"subject\"] = subject\n",
        "\n",
        "context = ssl.create_default_context()\n",
        "\n",
        "with smtplib.SMTP_SSL(\"smtp.gmail.com\", 465, context=context) as server:\n",
        "  server.login(sender_email,password)\n",
        "  server.sendmail(sender_email,receiver_email,msg.as_string())\n",
        "\n",
        "print(\"success\")"
      ],
      "metadata": {
        "colab": {
          "base_uri": "https://localhost:8080/"
        },
        "id": "ppENVbt4-pHE",
        "outputId": "19c5ac5e-f7cf-411c-881b-e7938257accd"
      },
      "execution_count": 12,
      "outputs": [
        {
          "output_type": "stream",
          "name": "stdout",
          "text": [
            "Enter a password: nouv tfdl lrzw dvzl\n",
            "success\n"
          ]
        }
      ]
    },
    {
      "cell_type": "code",
      "source": [
        ""
      ],
      "metadata": {
        "id": "2Vrcdhe0_R1N"
      },
      "execution_count": null,
      "outputs": []
    }
  ]
}